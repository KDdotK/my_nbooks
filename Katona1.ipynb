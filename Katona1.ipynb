{
 "cells": [
  {
   "cell_type": "markdown",
   "id": "fa14ad06-3ec4-44a1-b66b-f67af925f712",
   "metadata": {},
   "source": [
    "# Konstantine Katona\n"
   ]
  },
  {
   "cell_type": "markdown",
   "id": "e45f7ef0-67e5-4bd7-a78a-0b1508ff1c48",
   "metadata": {},
   "source": [
    "## Phases of Analysis and Visualization"
   ]
  },
  {
   "cell_type": "markdown",
   "id": "4f8a3212-55d4-4598-aa3c-a0acc41efbac",
   "metadata": {},
   "source": [
    "1. Data Collection Preprocessing\n",
    "2. Data  Analysis\n",
    "3. Data Exploration\n",
    "4. Data Collection\n",
    "5. Data Visualization"
   ]
  },
  {
   "cell_type": "code",
   "execution_count": null,
   "id": "21163aed-b112-4ef9-9fc1-d20f565721a7",
   "metadata": {},
   "outputs": [],
   "source": []
  },
  {
   "cell_type": "code",
   "execution_count": null,
   "id": "001c76cc-8e03-4fb5-b026-7f138ded58e8",
   "metadata": {},
   "outputs": [],
   "source": []
  }
 ],
 "metadata": {
  "kernelspec": {
   "display_name": "Python 3 (ipykernel)",
   "language": "python",
   "name": "python3"
  },
  "language_info": {
   "codemirror_mode": {
    "name": "ipython",
    "version": 3
   },
   "file_extension": ".py",
   "mimetype": "text/x-python",
   "name": "python",
   "nbconvert_exporter": "python",
   "pygments_lexer": "ipython3",
   "version": "3.11.5"
  }
 },
 "nbformat": 4,
 "nbformat_minor": 5
}
